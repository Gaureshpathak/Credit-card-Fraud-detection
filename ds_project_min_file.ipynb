{
 "cells": [
  {
   "cell_type": "code",
   "execution_count": 3,
   "id": "21651611-739d-4c49-b67b-2874524d931f",
   "metadata": {},
   "outputs": [],
   "source": [
    "import pandas as pd\n",
    "import numpy as np\n",
    "\n",
    "dataset = pd.read_csv('data_min.csv')"
   ]
  },
  {
   "cell_type": "code",
   "execution_count": 4,
   "id": "77f1a065-3e7f-4742-a0c6-adeafd8262b7",
   "metadata": {},
   "outputs": [],
   "source": [
    "from sklearn.model_selection import train_test_split"
   ]
  },
  {
   "cell_type": "code",
   "execution_count": 7,
   "id": "e304bf7e-74fa-4046-84db-dfbb0e10c18c",
   "metadata": {},
   "outputs": [
    {
     "data": {
      "text/plain": [
       "Time      0\n",
       "V1        0\n",
       "V2        0\n",
       "V3        0\n",
       "V4        0\n",
       "V5        0\n",
       "V6        0\n",
       "V7        0\n",
       "V8        0\n",
       "V9        0\n",
       "V10       0\n",
       "V11       0\n",
       "V12       0\n",
       "V13       0\n",
       "V14       0\n",
       "V15       0\n",
       "V16       0\n",
       "V17       0\n",
       "V18       0\n",
       "V19       0\n",
       "V20       0\n",
       "V21       0\n",
       "V22       0\n",
       "V23       0\n",
       "V24       0\n",
       "V25       0\n",
       "V26       0\n",
       "V27       0\n",
       "V28       0\n",
       "Amount    0\n",
       "Class     0\n",
       "dtype: int64"
      ]
     },
     "execution_count": 7,
     "metadata": {},
     "output_type": "execute_result"
    }
   ],
   "source": [
    "dataset.isnull().sum()"
   ]
  },
  {
   "cell_type": "code",
   "execution_count": 9,
   "id": "d8de0aa7-095d-4b08-83e5-4fa946df491f",
   "metadata": {},
   "outputs": [
    {
     "data": {
      "text/plain": [
       "71"
      ]
     },
     "execution_count": 9,
     "metadata": {},
     "output_type": "execute_result"
    }
   ],
   "source": [
    "dataset.duplicated().sum()\n"
   ]
  },
  {
   "cell_type": "code",
   "execution_count": 11,
   "id": "1b452e52-e336-48df-8c96-f6d00f39c5b5",
   "metadata": {},
   "outputs": [],
   "source": [
    "dataset=dataset.drop_duplicates()"
   ]
  },
  {
   "cell_type": "code",
   "execution_count": 13,
   "id": "77bb0d41-b898-459d-b4bc-10d0252f9e42",
   "metadata": {},
   "outputs": [
    {
     "data": {
      "text/plain": [
       "Class\n",
       "0.0    283253\n",
       "1.0       473\n",
       "Name: count, dtype: int64"
      ]
     },
     "execution_count": 13,
     "metadata": {},
     "output_type": "execute_result"
    }
   ],
   "source": [
    "dataset['Class'].value_counts()"
   ]
  },
  {
   "cell_type": "code",
   "execution_count": 15,
   "id": "950197f6-a1e9-43d9-8205-635b3fb835ff",
   "metadata": {},
   "outputs": [
    {
     "name": "stdout",
     "output_type": "stream",
     "text": [
      "(283253, 31)\n",
      "(473, 31)\n"
     ]
    }
   ],
   "source": [
    "legit = dataset[dataset.Class == 0]\n",
    "fraud = dataset[dataset.Class == 1]\n",
    "print(legit.shape)\n",
    "print(fraud.shape)"
   ]
  },
  {
   "cell_type": "code",
   "execution_count": 17,
   "id": "3cf7953d-eba3-4868-adbc-9b212d8dc222",
   "metadata": {},
   "outputs": [
    {
     "data": {
      "text/plain": [
       "Class\n",
       "0.0    473\n",
       "1.0    473\n",
       "Name: count, dtype: int64"
      ]
     },
     "execution_count": 17,
     "metadata": {},
     "output_type": "execute_result"
    }
   ],
   "source": [
    "legit_sample = legit.sample(n=473)\n",
    "new_dataset = pd.concat([legit_sample, fraud], axis=0)\n",
    "new_dataset['Class'].value_counts()"
   ]
  },
  {
   "cell_type": "code",
   "execution_count": 19,
   "id": "09cd3f86-0f64-44a4-8c93-4564c6ff6b7b",
   "metadata": {},
   "outputs": [
    {
     "name": "stdout",
     "output_type": "stream",
     "text": [
      "(946, 30) (662, 30) (284, 30)\n"
     ]
    }
   ],
   "source": [
    "X = new_dataset.drop(columns='Class', axis=1)\n",
    "Y = new_dataset['Class']\n",
    "X_train, X_test, Y_train, Y_test = train_test_split(X, Y, test_size=0.30, stratify=Y, random_state=2)\n",
    "print(X.shape, X_train.shape, X_test.shape)"
   ]
  },
  {
   "cell_type": "code",
   "execution_count": 25,
   "id": "90409c93-b510-43cb-a2fe-568818c01c43",
   "metadata": {},
   "outputs": [
    {
     "name": "stdout",
     "output_type": "stream",
     "text": [
      "\n",
      "Summary of Cross-Validated Results:\n",
      "                     Classifier Mean Accuracy Mean Precision Mean Recall  \\\n",
      "0           Logistic Regression        0.9350         0.9365      0.9350   \n",
      "1      Decision Tree Classifier        0.9139         0.9140      0.9139   \n",
      "2      Random Forest Classifier        0.9441         0.9463      0.9441   \n",
      "3  Support Vector Machine (SVM)        0.9305         0.9321      0.9305   \n",
      "4     K-Nearest Neighbors (KNN)        0.9109         0.9173      0.9109   \n",
      "5                   Naive Bayes        0.9003         0.9036      0.9003   \n",
      "\n",
      "  Mean F1 Score  \n",
      "0        0.9350  \n",
      "1        0.9139  \n",
      "2        0.9440  \n",
      "3        0.9305  \n",
      "4        0.9105  \n",
      "5        0.9001  \n"
     ]
    }
   ],
   "source": [
    "from sklearn.model_selection import cross_val_score, cross_val_predict\n",
    "from sklearn.metrics import accuracy_score, precision_score, recall_score, f1_score\n",
    "import numpy as np\n",
    "import pandas as pd\n",
    "\n",
    "# Define classifiers\n",
    "classifiers = {\n",
    "    \"Logistic Regression\": LogisticRegression(random_state=2, max_iter=200),\n",
    "    \"Decision Tree Classifier\": DecisionTreeClassifier(random_state=2),\n",
    "    \"Random Forest Classifier\": RandomForestClassifier(random_state=2),\n",
    "    \"Support Vector Machine (SVM)\": SVC(kernel='rbf', random_state=2),\n",
    "    \"K-Nearest Neighbors (KNN)\": KNeighborsClassifier(n_neighbors=5),\n",
    "    \"Naive Bayes\": GaussianNB()\n",
    "}\n",
    "\n",
    "# Initialize lists to store mean, max, and min results for each metric\n",
    "rows = []\n",
    "\n",
    "# Use cross-validation to evaluate each classifier\n",
    "for name, clf in classifiers.items():\n",
    "    # Cross-validation predictions\n",
    "    y_pred = cross_val_predict(clf, X_train_scaled, Y_train, cv=5)\n",
    "    \n",
    "    # Calculate metrics across cross-validation folds\n",
    "    accuracy = accuracy_score(Y_train, y_pred)\n",
    "    precision = precision_score(Y_train, y_pred, average='weighted', zero_division=0)\n",
    "    recall = recall_score(Y_train, y_pred, average='weighted', zero_division=0)\n",
    "    f1 = f1_score(Y_train, y_pred, average='weighted', zero_division=0)\n",
    "    \n",
    "    # Store metrics in a list\n",
    "    rows.append({\n",
    "        \"Classifier\": name,\n",
    "        \"Mean Accuracy\": f\"{accuracy:.4f}\",\n",
    "        \"Mean Precision\": f\"{precision:.4f}\",\n",
    "        \"Mean Recall\": f\"{recall:.4f}\",\n",
    "        \"Mean F1 Score\": f\"{f1:.4f}\"\n",
    "    })\n",
    "\n",
    "# Convert the results to a DataFrame\n",
    "results_df = pd.DataFrame(rows)\n",
    "\n",
    "print(\"\\nSummary of Cross-Validated Results:\")\n",
    "print(results_df)\n"
   ]
  },
  {
   "cell_type": "code",
   "execution_count": 23,
   "id": "6aae707f-bfc2-4a9f-a30d-9f477282d067",
   "metadata": {},
   "outputs": [
    {
     "data": {
      "image/png": "[encoded data removed]",
      "text/plain": [
       "<Figure size 1200x800 with 1 Axes>"
      ]
     },
     "metadata": {},
     "output_type": "display_data"
    }
   ],
   "source": [
    "import seaborn as sns\n",
    "import matplotlib.pyplot as plt\n",
    "from sklearn.linear_model import LogisticRegression\n",
    "from sklearn.tree import DecisionTreeClassifier\n",
    "from sklearn.ensemble import RandomForestClassifier\n",
    "from sklearn.svm import SVC\n",
    "from sklearn.neighbors import KNeighborsClassifier\n",
    "from sklearn.naive_bayes import GaussianNB\n",
    "from sklearn.metrics import classification_report, accuracy_score, precision_score, recall_score, f1_score\n",
    "from sklearn.preprocessing import StandardScaler\n",
    "import pandas as pd\n",
    "\n",
    "# Scaling the data\n",
    "scaler = StandardScaler()\n",
    "X_train_scaled = scaler.fit_transform(X_train)\n",
    "X_test_scaled = scaler.transform(X_test)\n",
    "\n",
    "# Define a dictionary to store metrics\n",
    "metrics = {\n",
    "    \"Classifier\": [],\n",
    "    \"Metric\": [],\n",
    "    \"Score\": []\n",
    "}\n",
    "\n",
    "# Define classifiers\n",
    "classifiers = {\n",
    "    \"Logistic Regression\": LogisticRegression(random_state=2, max_iter=200),\n",
    "    \"Decision Tree\": DecisionTreeClassifier(random_state=2),\n",
    "    \"Random Forest\": RandomForestClassifier(random_state=2),\n",
    "    \"SVM (RBF)\": SVC(kernel='rbf', random_state=2),\n",
    "    \"K-Nearest Neighbors\": KNeighborsClassifier(n_neighbors=5),\n",
    "    \"Naive Bayes\": GaussianNB()\n",
    "}\n",
    "\n",
    "# Train and evaluate each classifier\n",
    "for name, clf in classifiers.items():\n",
    "    clf.fit(X_train_scaled, Y_train)\n",
    "    Y_pred = clf.predict(X_test_scaled)\n",
    "    \n",
    "    # Calculate metrics\n",
    "    acc = accuracy_score(Y_test, Y_pred)\n",
    "    # Calculate metrics with zero_division=0\n",
    "    precision = precision_score(Y_test, Y_pred, average='weighted', zero_division=0)\n",
    "    recall = recall_score(Y_test, Y_pred, average='weighted', zero_division=0)\n",
    "    f1 = f1_score(Y_test, Y_pred, average='weighted', zero_division=0)\n",
    "\n",
    "    \n",
    "    # Store metrics in the dictionary\n",
    "    metrics[\"Classifier\"].extend([name] * 4)\n",
    "    metrics[\"Metric\"].extend([\"Accuracy\", \"Precision\", \"Recall\", \"F1 Score\"])\n",
    "    metrics[\"Score\"].extend([acc * 100, precision * 100, recall * 100, f1 * 100])\n",
    "\n",
    "# Convert the dictionary to a DataFrame\n",
    "metrics_df = pd.DataFrame(metrics)\n",
    "\n",
    "# Plot the metrics\n",
    "plt.figure(figsize=(12, 8))\n",
    "sns.barplot(data=metrics_df, x=\"Classifier\", y=\"Score\", hue=\"Metric\", palette=\"bright\")\n",
    "plt.title(\"Comparison of Metrics for Different Classifiers\")\n",
    "plt.ylabel(\"Score (%)\")\n",
    "plt.xlabel(\"Classifier\")\n",
    "plt.xticks(rotation=0)\n",
    "plt.legend(title=\"Metric\", bbox_to_anchor=(1.05, 1), loc='upper left')\n",
    "plt.tight_layout()\n",
    "plt.show()\n"
   ]
  }
 ],
 "metadata": {
  "kernelspec": {
   "display_name": "Python 3 (ipykernel)",
   "language": "python",
   "name": "python3"
  },
  "language_info": {
   "codemirror_mode": {
    "name": "ipython",
    "version": 3
   },
   "file_extension": ".py",
   "mimetype": "text/x-python",
   "name": "python",
   "nbconvert_exporter": "python",
   "pygments_lexer": "ipython3",
   "version": "3.12.4"
  }
 },
 "nbformat": 4,
 "nbformat_minor": 5
}
